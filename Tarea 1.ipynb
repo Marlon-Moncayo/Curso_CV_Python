{
 "cells": [
  {
   "cell_type": "markdown",
   "metadata": {},
   "source": [
    "Curso de Vision Artificial\n",
    "Nombre: Damian Moncayo\n",
    "Fecha: 18/11/2020\n",
    "\n",
    "Tarea 1: Eventos del Mouse\n",
    "\n",
    "Realizar un ejercicio capturando eventos con el mouse donde se pulse el Botón izquierdo dibuje un circulo, pulsamos el botón derecho dibuja un rectángulo."
   ]
  },
  {
   "cell_type": "code",
   "execution_count": 1,
   "metadata": {},
   "outputs": [
    {
     "name": "stdout",
     "output_type": "stream",
     "text": [
      "Presione la tecla a para salir\n"
     ]
    },
    {
     "data": {
      "text/plain": [
       "<matplotlib.image.AxesImage at 0x13d2f74b788>"
      ]
     },
     "execution_count": 1,
     "metadata": {},
     "output_type": "execute_result"
    },
    {
     "data": {
      "image/png": "[encoded data removed]",
      "text/plain": [
       "<Figure size 432x288 with 1 Axes>"
      ]
     },
     "metadata": {
      "needs_background": "light"
     },
     "output_type": "display_data"
    }
   ],
   "source": [
    "import numpy as np\n",
    "import cv2 as cv\n",
    "import matplotlib.pyplot as plt\n",
    "print(\"Presione la tecla a para salir\")\n",
    "def draw_figures(event, x, y, flags, param):\n",
    "\n",
    "    if(event == cv.EVENT_LBUTTONDBLCLK):\n",
    "        cv.circle(img, (x, y), 25, (255,0,0), 2)\n",
    "    if(event == cv.EVENT_RBUTTONDBLCLK):\n",
    "        cv.rectangle(img,(x,y), (x+35,y+35),(0,120,250),3)\n",
    "        \n",
    "img = np.zeros((512,512,3), np.uint8)\n",
    "\n",
    "cv.namedWindow(\"Dibujando Figuras\")\n",
    "cv.setMouseCallback(\"Dibujando Figuras\", draw_figures)\n",
    "\n",
    "while(True):\n",
    "    cv.imshow(\"Dibujando Figuras\",img)\n",
    "    \n",
    "    \n",
    "    if (cv.waitKey(1) & 0xFF ==ord('a')):\n",
    "        break\n",
    "    \n",
    "cv.destroyAllWindows()\n",
    "plt.imshow(img)"
   ]
  }
 ],
 "metadata": {
  "kernelspec": {
   "display_name": "Python 3",
   "language": "python",
   "name": "python3"
  },
  "language_info": {
   "codemirror_mode": {
    "name": "ipython",
    "version": 3
   },
   "file_extension": ".py",
   "mimetype": "text/x-python",
   "name": "python",
   "nbconvert_exporter": "python",
   "pygments_lexer": "ipython3",
   "version": "3.7.9"
  }
 },
 "nbformat": 4,
 "nbformat_minor": 4
}
